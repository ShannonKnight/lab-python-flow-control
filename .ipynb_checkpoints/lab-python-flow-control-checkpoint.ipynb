{
 "cells": [
  {
   "cell_type": "markdown",
   "id": "d3bfc191-8885-42ee-b0a0-bbab867c6f9f",
   "metadata": {
    "tags": []
   },
   "source": [
    "# Lab | Flow Control"
   ]
  },
  {
   "cell_type": "markdown",
   "id": "3851fcd1-cf98-4653-9c89-e003b7ec9400",
   "metadata": {},
   "source": [
    "## Exercise: Managing Customer Orders Optimized\n",
    "\n",
    "In the last lab, you were starting an online store that sells various products. To ensure smooth operations, you developed a program that manages customer orders and inventory.\n",
    "\n",
    "You did so without using flow control. Let's go a step further and improve this code.\n",
    "\n",
    "Follow the steps below to complete the exercise:\n",
    "\n",
    "1. Look at your code from the lab data structures, and improve repeated code with loops.\n",
    "\n",
    "2. Instead of asking the user to input the name of three products that a customer wants to order, do the following:\n",
    "    \n",
    "    a. Prompt the user to enter the name of a product that a customer wants to order.\n",
    "    \n",
    "    b. Add the product name to the \"customer_orders\" set.\n",
    "    \n",
    "    c. Ask the user if they want to add another product (yes/no).\n",
    "    \n",
    "    d. Continue the loop until the user does not want to add another product.\n",
    "\n",
    "3. Instead of updating the inventory by subtracting 1 from the quantity of each product, only do it for  the products that were ordered (those in \"customer_orders\")."
   ]
  },
  {
   "cell_type": "code",
   "execution_count": 12,
   "id": "01983ff1",
   "metadata": {},
   "outputs": [
    {
     "name": "stdout",
     "output_type": "stream",
     "text": [
      "How many t-shirts are in the inventory? 6\n",
      "How many mugs are in the inventory? 6\n",
      "How many hats are in the inventory? 6\n",
      "How many books are in the inventory? 6\n",
      "How many keychains are in the inventory? 6\n",
      "{'t-shirt': 6, 'mug': 6, 'hat': 6, 'book': 6, 'keychain': 6}\n",
      "Which product do you want to order? mug\n",
      "Do you want to order another product? Type 'yes' or 'no': yes\n",
      "Which product do you want to order? book\n",
      "Do you want to order another product? Type 'yes' or 'no': yes\n",
      "Which product do you want to order? hat\n",
      "Do you want to order another product? Type 'yes' or 'no': no\n",
      "Customer orders:  {'book', 'mug', 'hat'}\n",
      "Order Statistics:\n",
      "Total Products Ordered 3\n",
      "Percentage of Products Ordered:  10.0 %\n",
      "t-shirt: 6\n",
      "mug: 5\n",
      "hat: 5\n",
      "book: 5\n",
      "keychain: 6\n"
     ]
    }
   ],
   "source": [
    "#1\n",
    "products = [\"t-shirt\", \"mug\", \"hat\", \"book\",\"keychain\"]\n",
    "\n",
    "#2\n",
    "inventory = {}\n",
    "\n",
    "#3\n",
    "\n",
    "for item in products:\n",
    "    inventory[item]=int(input(f\"How many {item}s are in the inventory? \"))\n",
    "\n",
    "print(inventory)\n",
    "\n",
    "#4\n",
    "customer_orders = set()\n",
    "\n",
    "#5\n",
    "another_product = \"yes\"\n",
    "while another_product == \"yes\":\n",
    "    order = input(\"Which product do you want to order? \")\n",
    "    customer_orders.add(order)\n",
    "    another_product = input(\"Do you want to order another product? Type 'yes' or 'no': \").lower()\n",
    "\n",
    "#6\n",
    "print(\"Customer orders: \",customer_orders)\n",
    "\n",
    "\n",
    "#7\n",
    "total_products_ordered = len(customer_orders)\n",
    "total_available_products = inventory[\"t-shirt\"]+inventory[\"mug\"]+inventory[\"hat\"]+inventory[\"book\"]+inventory[\"keychain\"]\n",
    "percentage_ordered = (total_products_ordered/total_available_products)*100\n",
    "\n",
    "order_status=(total_products_ordered,percentage_ordered)\n",
    "#order_status\n",
    "\n",
    "#8\n",
    "print(\"Order Statistics:\")\n",
    "print(\"Total Products Ordered\", total_products_ordered)\n",
    "print(\"Percentage of Products Ordered: \", percentage_ordered, \"%\") \n",
    "\n",
    "#9\n",
    "for key, value in inventory.items():\n",
    "    if key in customer_orders:\n",
    "        inventory[key] = value - 1\n",
    "      \n",
    "#10 \n",
    "for key, value in inventory.items():\n",
    "    print(f\"{key}: {value}\")"
   ]
  },
  {
   "cell_type": "code",
   "execution_count": null,
   "id": "643e2883",
   "metadata": {},
   "outputs": [],
   "source": []
  }
 ],
 "metadata": {
  "kernelspec": {
   "display_name": "Python 3 (ipykernel)",
   "language": "python",
   "name": "python3"
  },
  "language_info": {
   "codemirror_mode": {
    "name": "ipython",
    "version": 3
   },
   "file_extension": ".py",
   "mimetype": "text/x-python",
   "name": "python",
   "nbconvert_exporter": "python",
   "pygments_lexer": "ipython3",
   "version": "3.11.5"
  }
 },
 "nbformat": 4,
 "nbformat_minor": 5
}
